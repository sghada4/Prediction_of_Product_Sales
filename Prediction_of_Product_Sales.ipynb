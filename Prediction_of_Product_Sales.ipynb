{
  "nbformat": 4,
  "nbformat_minor": 0,
  "metadata": {
    "colab": {
      "provenance": [],
      "authorship_tag": "ABX9TyOyJCDjUDtjCrK56DDagFFt",
      "include_colab_link": true
    },
    "kernelspec": {
      "name": "python3",
      "display_name": "Python 3"
    },
    "language_info": {
      "name": "python"
    }
  },
  "cells": [
    {
      "cell_type": "markdown",
      "metadata": {
        "id": "view-in-github",
        "colab_type": "text"
      },
      "source": [
        "<a href=\"https://colab.research.google.com/github/sghada4/Prediction_of_Product_Sales/blob/main/Prediction_of_Product_Sales.ipynb\" target=\"_parent\"><img src=\"https://colab.research.google.com/assets/colab-badge.svg\" alt=\"Open In Colab\"/></a>"
      ]
    },
    {
      "cell_type": "markdown",
      "source": [
        "# Prediction of Product Sales\n",
        "  - Author: Ghada"
      ],
      "metadata": {
        "id": "kcwNU6hJXNH_"
      }
    },
    {
      "cell_type": "markdown",
      "source": [
        "## Project Overview"
      ],
      "metadata": {
        "id": "biXhP6FHX5tl"
      }
    },
    {
      "cell_type": "markdown",
      "source": [
        "### Load and Inspect Data"
      ],
      "metadata": {
        "id": "v0Uf_WpRX-tm"
      }
    },
    {
      "cell_type": "code",
      "source": [],
      "metadata": {
        "id": "z7GtVDZLYB8F"
      },
      "execution_count": null,
      "outputs": []
    },
    {
      "cell_type": "markdown",
      "source": [
        "### Clean Data"
      ],
      "metadata": {
        "id": "BVG2Jv2gYCe9"
      }
    },
    {
      "cell_type": "code",
      "source": [],
      "metadata": {
        "id": "69XsB9HbYJye"
      },
      "execution_count": null,
      "outputs": []
    },
    {
      "cell_type": "markdown",
      "source": [
        "### Exploratory Data Analysis"
      ],
      "metadata": {
        "id": "TuB5DesJYNcu"
      }
    },
    {
      "cell_type": "code",
      "source": [],
      "metadata": {
        "id": "J7fbXxpoYREs"
      },
      "execution_count": null,
      "outputs": []
    },
    {
      "cell_type": "markdown",
      "source": [
        "### Feature Inspection"
      ],
      "metadata": {
        "id": "5ygvgULFYR-u"
      }
    },
    {
      "cell_type": "code",
      "source": [],
      "metadata": {
        "id": "Lz_Kwh9EYUut"
      },
      "execution_count": null,
      "outputs": []
    }
  ]
}